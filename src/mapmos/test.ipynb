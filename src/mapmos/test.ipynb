{
 "cells": [
  {
   "cell_type": "code",
   "execution_count": 1,
   "id": "58d1b165",
   "metadata": {},
   "outputs": [
    {
     "name": "stdout",
     "output_type": "stream",
     "text": [
      "Jupyter environment detected. Enabling Open3D WebVisualizer.\n",
      "[Open3D INFO] WebRTC GUI backend enabled.\n",
      "[Open3D INFO] WebRTCWindowSystem: HTTP handshake server disabled.\n"
     ]
    }
   ],
   "source": [
    "from mapmos.live_m1p.lidar_new import RobosenseClientWrapper"
   ]
  },
  {
   "cell_type": "code",
   "execution_count": 2,
   "id": "e8530b0c",
   "metadata": {},
   "outputs": [],
   "source": [
    "a = RobosenseClientWrapper()"
   ]
  },
  {
   "cell_type": "code",
   "execution_count": 3,
   "id": "8d731267",
   "metadata": {},
   "outputs": [
    {
     "name": "stdout",
     "output_type": "stream",
     "text": [
      "✅ Lidar client initialized successfully.\n"
     ]
    },
    {
     "name": "stdout",
     "output_type": "stream",
     "text": [
      "Got error: ERRCODE_PKTBUFOVERFLOW\n",
      "Got error: ERRCODE_PKTBUFOVERFLOW\n",
      "Got error: ERRCODE_PKTBUFOVERFLOW\n",
      "Got error: ERRCODE_PKTBUFOVERFLOW\n",
      "Got error: ERRCODE_PKTBUFOVERFLOW\n",
      "Got error: ERRCODE_PKTBUFOVERFLOW\n",
      "Got error: ERRCODE_PKTBUFOVERFLOW\n",
      "Got error: ERRCODE_PKTBUFOVERFLOW\n",
      "Got error: ERRCODE_PKTBUFOVERFLOW\n"
     ]
    }
   ],
   "source": [
    "b = a.start()\n",
    "if not b:\n",
    "    print(b)\n",
    "    print(\"✅ [Lidar] process started, waiting for point clouds.\")\n",
    "# a.get_point_cloud_numpy()"
   ]
  },
  {
   "cell_type": "code",
   "execution_count": 1,
   "id": "a7e0b921",
   "metadata": {},
   "outputs": [
    {
     "name": "stdout",
     "output_type": "stream",
     "text": [
      "Jupyter environment detected. Enabling Open3D WebVisualizer.\n",
      "[Open3D INFO] WebRTC GUI backend enabled.\n",
      "[Open3D INFO] WebRTCWindowSystem: HTTP handshake server disabled.\n"
     ]
    }
   ],
   "source": [
    "from mapmos.live_m1p.lidar_new import LidarPipeline"
   ]
  },
  {
   "cell_type": "code",
   "execution_count": 2,
   "id": "c37e3840",
   "metadata": {},
   "outputs": [],
   "source": [
    "a = LidarPipeline()\n"
   ]
  },
  {
   "cell_type": "code",
   "execution_count": null,
   "id": "c7240e82",
   "metadata": {},
   "outputs": [],
   "source": [
    "a.save_point_clouds()"
   ]
  },
  {
   "cell_type": "code",
   "execution_count": 3,
   "id": "05e835f2",
   "metadata": {},
   "outputs": [
    {
     "data": {
      "text/plain": [
       "array([[        nan,         nan,         nan,  0.        ],\n",
       "       [        nan,         nan,         nan,  0.        ],\n",
       "       [        nan,         nan,         nan,  0.        ],\n",
       "       ...,\n",
       "       [        nan,         nan,         nan,  0.        ],\n",
       "       [ 0.35093662,  0.44497937,  1.8449218 , 97.        ],\n",
       "       [ 1.4077511 ,  0.52768093,  1.9911842 , 10.        ]],\n",
       "      shape=(78750, 4), dtype=float32)"
      ]
     },
     "execution_count": 3,
     "metadata": {},
     "output_type": "execute_result"
    }
   ],
   "source": [
    "a.get_array()\n",
    "# a.get_array()[0]"
   ]
  },
  {
   "cell_type": "code",
   "execution_count": 6,
   "id": "4b64981d",
   "metadata": {},
   "outputs": [
    {
     "name": "stdout",
     "output_type": "stream",
     "text": [
      "Jupyter environment detected. Enabling Open3D WebVisualizer.\n",
      "[Open3D INFO] WebRTC GUI backend enabled.\n",
      "[Open3D INFO] WebRTCWindowSystem: HTTP handshake server disabled.\n"
     ]
    }
   ],
   "source": [
    "import open3d as o3d\n",
    "import numpy as np"
   ]
  },
  {
   "cell_type": "code",
   "execution_count": 7,
   "id": "c5f169e9",
   "metadata": {},
   "outputs": [
    {
     "name": "stdout",
     "output_type": "stream",
     "text": [
      "PointCloud with 13398 points.\n",
      "Anzahl der Punkte: 13398\n"
     ]
    }
   ],
   "source": [
    "# Lade die PLY-Datei\n",
    "pcd = o3d.io.read_point_cloud(\"/home/tguenther/repos/MapMOS/results/2025-09-29_13-35-55/ply/000093.ply\")\n",
    "\n",
    "# Prüfe die Daten\n",
    "print(pcd)\n",
    "print(f\"Anzahl der Punkte: {len(pcd.points)}\")\n",
    "\n",
    "# Zeige die Punktwolke\n",
    "o3d.visualization.draw_geometries([pcd])"
   ]
  },
  {
   "cell_type": "code",
   "execution_count": 15,
   "id": "53e84efe",
   "metadata": {},
   "outputs": [
    {
     "data": {
      "text/plain": [
       "(13398, 3)"
      ]
     },
     "execution_count": 15,
     "metadata": {},
     "output_type": "execute_result"
    }
   ],
   "source": [
    "pts = np.asarray(pcd.points)\n",
    "pts.shape"
   ]
  },
  {
   "cell_type": "code",
   "execution_count": 32,
   "id": "bcc53c05",
   "metadata": {},
   "outputs": [],
   "source": [
    "punkte = np.asarray(pcd.points)   # Shape: (N, 3)\n",
    "farben = np.asarray(pcd.colors)   # Shape: (N, 3)"
   ]
  },
  {
   "cell_type": "code",
   "execution_count": 2,
   "id": "658e2a9f",
   "metadata": {},
   "outputs": [
    {
     "ename": "ValueError",
     "evalue": "negative dimensions are not allowed",
     "output_type": "error",
     "traceback": [
      "\u001b[0;31m---------------------------------------------------------------------------\u001b[0m",
      "\u001b[0;31mValueError\u001b[0m                                Traceback (most recent call last)",
      "Cell \u001b[0;32mIn[2], line 2\u001b[0m\n\u001b[1;32m      1\u001b[0m \u001b[38;5;28;01mimport\u001b[39;00m\u001b[38;5;250m \u001b[39m\u001b[38;5;21;01mnumpy\u001b[39;00m\u001b[38;5;250m \u001b[39m\u001b[38;5;28;01mas\u001b[39;00m\u001b[38;5;250m \u001b[39m\u001b[38;5;21;01mnp\u001b[39;00m\n\u001b[0;32m----> 2\u001b[0m \u001b[43mnp\u001b[49m\u001b[38;5;241;43m.\u001b[39;49m\u001b[43mzeros\u001b[49m\u001b[43m(\u001b[49m\u001b[43m(\u001b[49m\u001b[38;5;241;43m-\u001b[39;49m\u001b[38;5;241;43m1\u001b[39;49m\u001b[43m,\u001b[49m\u001b[38;5;241;43m3\u001b[39;49m\u001b[43m)\u001b[49m\u001b[43m)\u001b[49m\n",
      "\u001b[0;31mValueError\u001b[0m: negative dimensions are not allowed"
     ]
    }
   ],
   "source": [
    "import numpy as np\n",
    "np.zeros((-1,3))"
   ]
  },
  {
   "cell_type": "code",
   "execution_count": 1,
   "id": "ca488f15",
   "metadata": {},
   "outputs": [],
   "source": [
    "import os\n",
    "import hashlib\n",
    "from PIL import Image\n",
    "from concurrent.futures import ProcessPoolExecutor\n",
    "from collections import defaultdict\n"
   ]
  },
  {
   "cell_type": "code",
   "execution_count": 2,
   "id": "2fbc11f6",
   "metadata": {},
   "outputs": [],
   "source": [
    "# path = \"/home/tguenther/Data/ato_recordings/2025-09-09_Records_CITEC/test_Thomas/Dataset_2025_09_09-13_56_12_Genie_M1P/M1P/velodyne_npy/\"\n",
    "path = \"/home/tguenther/Data/ato_recordings/2025-09-09_Records_CITEC/test_Thomas/Dataset_2025_09_09-13_58_54_Genie_M1P/M1P/velodyne_npy/\"\n",
    "# path = \"/home/tguenther/Data/ato_recordings/2025-09-09_Records_CITEC/test_Thomas/Dataset_2025_09_09-14_01_48_Genie_M1P/M1P/velodyne_npy/\"\n",
    "\n",
    "\n",
    "# datei1 = \"000209_00112.96492.npy\"\n",
    "# datei2 = \"000211_00114.03717.npy\"#\"000210_00113.50064.npy\"\n",
    "\n",
    "# # Dateien laden\n",
    "# arr1 = np.load(path + datei1)\n",
    "# arr2 = np.load(path + datei2)\n",
    "\n",
    "# # Vergleichen\n",
    "# gleich = np.array_equal(arr1, arr2)\n",
    "\n",
    "# print(gleich)\n"
   ]
  },
  {
   "cell_type": "code",
   "execution_count": 3,
   "id": "ce5fa7eb",
   "metadata": {},
   "outputs": [],
   "source": [
    "ordner = path\n",
    "# Alle npy-Dateien sammeln\n",
    "dateien = [f for f in os.listdir(ordner) if f.endswith(\".npy\")]"
   ]
  },
  {
   "cell_type": "code",
   "execution_count": 5,
   "id": "d6a9bcb0",
   "metadata": {},
   "outputs": [
    {
     "data": {
      "text/plain": [
       "'000021_00009.87815.npy'"
      ]
     },
     "execution_count": 5,
     "metadata": {},
     "output_type": "execute_result"
    }
   ],
   "source": [
    "dateien[3]"
   ]
  },
  {
   "cell_type": "code",
   "execution_count": 15,
   "id": "511f3306",
   "metadata": {},
   "outputs": [],
   "source": [
    "ordner = path\n",
    "# Alle npy-Dateien sammeln\n",
    "dateien = [f for f in os.listdir(ordner) if f.endswith(\".npy\")]\n",
    "\n",
    "# Paare von Dateien vergleichen\n",
    "for d1, d2 in combinations(dateien, 2):\n",
    "    arr1 = np.load(os.path.join(ordner, d1))\n",
    "    arr2 = np.load(os.path.join(ordner, d2))\n",
    "\n",
    "    if np.array_equal(arr1, arr2):\n",
    "        print(f\"{d1} und {d2} sind identisch.\")"
   ]
  },
  {
   "cell_type": "code",
   "execution_count": 11,
   "id": "ec4af30b",
   "metadata": {},
   "outputs": [
    {
     "name": "stdout",
     "output_type": "stream",
     "text": [
      "Gefundene PNGs: 233\n",
      "Duplikat-Gruppen:\n",
      "Gruppe 1:\n",
      "   /home/tguenther/Data/ato_recordings/2025-09-09_Records_CITEC/Dataset_2025_09_09-14_01_48_Genie_M1P/data/Genie/000135_00074.74024/rgb.png\n",
      "   /home/tguenther/Data/ato_recordings/2025-09-09_Records_CITEC/Dataset_2025_09_09-14_01_48_Genie_M1P/data/Genie/000136_00075.27399/rgb.png\n",
      "   /home/tguenther/Data/ato_recordings/2025-09-09_Records_CITEC/Dataset_2025_09_09-14_01_48_Genie_M1P/data/Genie/000134_00074.20694/rgb.png\n",
      "   /home/tguenther/Data/ato_recordings/2025-09-09_Records_CITEC/Dataset_2025_09_09-14_01_48_Genie_M1P/data/Genie/000133_00073.67330/rgb.png\n",
      "Gruppe 2:\n",
      "   /home/tguenther/Data/ato_recordings/2025-09-09_Records_CITEC/Dataset_2025_09_09-14_01_48_Genie_M1P/data/Genie/000192_00105.45032/rgb.png\n",
      "   /home/tguenther/Data/ato_recordings/2025-09-09_Records_CITEC/Dataset_2025_09_09-14_01_48_Genie_M1P/data/Genie/000191_00104.91554/rgb.png\n",
      "   /home/tguenther/Data/ato_recordings/2025-09-09_Records_CITEC/Dataset_2025_09_09-14_01_48_Genie_M1P/data/Genie/000194_00106.51830/rgb.png\n",
      "   /home/tguenther/Data/ato_recordings/2025-09-09_Records_CITEC/Dataset_2025_09_09-14_01_48_Genie_M1P/data/Genie/000185_00101.70903/rgb.png\n",
      "   /home/tguenther/Data/ato_recordings/2025-09-09_Records_CITEC/Dataset_2025_09_09-14_01_48_Genie_M1P/data/Genie/000189_00103.84660/rgb.png\n",
      "   /home/tguenther/Data/ato_recordings/2025-09-09_Records_CITEC/Dataset_2025_09_09-14_01_48_Genie_M1P/data/Genie/000190_00104.38056/rgb.png\n",
      "   /home/tguenther/Data/ato_recordings/2025-09-09_Records_CITEC/Dataset_2025_09_09-14_01_48_Genie_M1P/data/Genie/000193_00105.98416/rgb.png\n",
      "   /home/tguenther/Data/ato_recordings/2025-09-09_Records_CITEC/Dataset_2025_09_09-14_01_48_Genie_M1P/data/Genie/000186_00102.24428/rgb.png\n",
      "   /home/tguenther/Data/ato_recordings/2025-09-09_Records_CITEC/Dataset_2025_09_09-14_01_48_Genie_M1P/data/Genie/000188_00103.31269/rgb.png\n",
      "   /home/tguenther/Data/ato_recordings/2025-09-09_Records_CITEC/Dataset_2025_09_09-14_01_48_Genie_M1P/data/Genie/000187_00102.77839/rgb.png\n",
      "Gruppe 3:\n",
      "   /home/tguenther/Data/ato_recordings/2025-09-09_Records_CITEC/Dataset_2025_09_09-14_01_48_Genie_M1P/data/Genie/000204_00111.90551/rgb.png\n",
      "   /home/tguenther/Data/ato_recordings/2025-09-09_Records_CITEC/Dataset_2025_09_09-14_01_48_Genie_M1P/data/Genie/000205_00112.44072/rgb.png\n",
      "Gruppe 4:\n",
      "   /home/tguenther/Data/ato_recordings/2025-09-09_Records_CITEC/Dataset_2025_09_09-14_01_48_Genie_M1P/data/Genie/000167_00092.01613/rgb.png\n",
      "   /home/tguenther/Data/ato_recordings/2025-09-09_Records_CITEC/Dataset_2025_09_09-14_01_48_Genie_M1P/data/Genie/000168_00092.55066/rgb.png\n",
      "   /home/tguenther/Data/ato_recordings/2025-09-09_Records_CITEC/Dataset_2025_09_09-14_01_48_Genie_M1P/data/Genie/000170_00093.61840/rgb.png\n",
      "   /home/tguenther/Data/ato_recordings/2025-09-09_Records_CITEC/Dataset_2025_09_09-14_01_48_Genie_M1P/data/Genie/000169_00093.08469/rgb.png\n",
      "Gruppe 5:\n",
      "   /home/tguenther/Data/ato_recordings/2025-09-09_Records_CITEC/Dataset_2025_09_09-14_01_48_Genie_M1P/data/Genie/000076_00042.91906/rgb.png\n",
      "   /home/tguenther/Data/ato_recordings/2025-09-09_Records_CITEC/Dataset_2025_09_09-14_01_48_Genie_M1P/data/Genie/000077_00043.45154/rgb.png\n",
      "   /home/tguenther/Data/ato_recordings/2025-09-09_Records_CITEC/Dataset_2025_09_09-14_01_48_Genie_M1P/data/Genie/000078_00043.98606/rgb.png\n",
      "Gruppe 6:\n",
      "   /home/tguenther/Data/ato_recordings/2025-09-09_Records_CITEC/Dataset_2025_09_09-14_01_48_Genie_M1P/data/Genie/000229_00125.37702/rgb.png\n",
      "   /home/tguenther/Data/ato_recordings/2025-09-09_Records_CITEC/Dataset_2025_09_09-14_01_48_Genie_M1P/data/Genie/000230_00125.91531/rgb.png\n",
      "   /home/tguenther/Data/ato_recordings/2025-09-09_Records_CITEC/Dataset_2025_09_09-14_01_48_Genie_M1P/data/Genie/000227_00124.30476/rgb.png\n",
      "   /home/tguenther/Data/ato_recordings/2025-09-09_Records_CITEC/Dataset_2025_09_09-14_01_48_Genie_M1P/data/Genie/000225_00123.19671/rgb.png\n",
      "   /home/tguenther/Data/ato_recordings/2025-09-09_Records_CITEC/Dataset_2025_09_09-14_01_48_Genie_M1P/data/Genie/000232_00126.98805/rgb.png\n",
      "   /home/tguenther/Data/ato_recordings/2025-09-09_Records_CITEC/Dataset_2025_09_09-14_01_48_Genie_M1P/data/Genie/000226_00123.76794/rgb.png\n",
      "   /home/tguenther/Data/ato_recordings/2025-09-09_Records_CITEC/Dataset_2025_09_09-14_01_48_Genie_M1P/data/Genie/000228_00124.84128/rgb.png\n",
      "   /home/tguenther/Data/ato_recordings/2025-09-09_Records_CITEC/Dataset_2025_09_09-14_01_48_Genie_M1P/data/Genie/000231_00126.45263/rgb.png\n",
      "Gruppe 7:\n",
      "   /home/tguenther/Data/ato_recordings/2025-09-09_Records_CITEC/Dataset_2025_09_09-14_01_48_Genie_M1P/data/Genie/000120_00066.68700/rgb.png\n",
      "   /home/tguenther/Data/ato_recordings/2025-09-09_Records_CITEC/Dataset_2025_09_09-14_01_48_Genie_M1P/data/Genie/000121_00067.22129/rgb.png\n",
      "Gruppe 8:\n",
      "   /home/tguenther/Data/ato_recordings/2025-09-09_Records_CITEC/Dataset_2025_09_09-14_01_48_Genie_M1P/data/Genie/000094_00052.71383/rgb.png\n",
      "   /home/tguenther/Data/ato_recordings/2025-09-09_Records_CITEC/Dataset_2025_09_09-14_01_48_Genie_M1P/data/Genie/000095_00053.24704/rgb.png\n",
      "Gruppe 9:\n",
      "   /home/tguenther/Data/ato_recordings/2025-09-09_Records_CITEC/Dataset_2025_09_09-14_01_48_Genie_M1P/data/Genie/000053_00030.48545/rgb.png\n",
      "   /home/tguenther/Data/ato_recordings/2025-09-09_Records_CITEC/Dataset_2025_09_09-14_01_48_Genie_M1P/data/Genie/000054_00031.02002/rgb.png\n",
      "   /home/tguenther/Data/ato_recordings/2025-09-09_Records_CITEC/Dataset_2025_09_09-14_01_48_Genie_M1P/data/Genie/000050_00028.88339/rgb.png\n",
      "   /home/tguenther/Data/ato_recordings/2025-09-09_Records_CITEC/Dataset_2025_09_09-14_01_48_Genie_M1P/data/Genie/000051_00029.41788/rgb.png\n",
      "   /home/tguenther/Data/ato_recordings/2025-09-09_Records_CITEC/Dataset_2025_09_09-14_01_48_Genie_M1P/data/Genie/000049_00028.35015/rgb.png\n",
      "   /home/tguenther/Data/ato_recordings/2025-09-09_Records_CITEC/Dataset_2025_09_09-14_01_48_Genie_M1P/data/Genie/000052_00029.95211/rgb.png\n",
      "Gruppe 10:\n",
      "   /home/tguenther/Data/ato_recordings/2025-09-09_Records_CITEC/Dataset_2025_09_09-14_01_48_Genie_M1P/data/Genie/000118_00065.61728/rgb.png\n",
      "   /home/tguenther/Data/ato_recordings/2025-09-09_Records_CITEC/Dataset_2025_09_09-14_01_48_Genie_M1P/data/Genie/000117_00065.08380/rgb.png\n",
      "   /home/tguenther/Data/ato_recordings/2025-09-09_Records_CITEC/Dataset_2025_09_09-14_01_48_Genie_M1P/data/Genie/000119_00066.15134/rgb.png\n",
      "Gruppe 11:\n",
      "   /home/tguenther/Data/ato_recordings/2025-09-09_Records_CITEC/Dataset_2025_09_09-14_01_48_Genie_M1P/data/Genie/000111_00061.87912/rgb.png\n",
      "   /home/tguenther/Data/ato_recordings/2025-09-09_Records_CITEC/Dataset_2025_09_09-14_01_48_Genie_M1P/data/Genie/000112_00062.41297/rgb.png\n",
      "   /home/tguenther/Data/ato_recordings/2025-09-09_Records_CITEC/Dataset_2025_09_09-14_01_48_Genie_M1P/data/Genie/000113_00062.94669/rgb.png\n",
      "Gruppe 12:\n",
      "   /home/tguenther/Data/ato_recordings/2025-09-09_Records_CITEC/Dataset_2025_09_09-14_01_48_Genie_M1P/data/Genie/000179_00098.49147/rgb.png\n",
      "   /home/tguenther/Data/ato_recordings/2025-09-09_Records_CITEC/Dataset_2025_09_09-14_01_48_Genie_M1P/data/Genie/000182_00100.09501/rgb.png\n",
      "   /home/tguenther/Data/ato_recordings/2025-09-09_Records_CITEC/Dataset_2025_09_09-14_01_48_Genie_M1P/data/Genie/000181_00099.56121/rgb.png\n",
      "   /home/tguenther/Data/ato_recordings/2025-09-09_Records_CITEC/Dataset_2025_09_09-14_01_48_Genie_M1P/data/Genie/000180_00099.02652/rgb.png\n",
      "Gruppe 13:\n",
      "   /home/tguenther/Data/ato_recordings/2025-09-09_Records_CITEC/Dataset_2025_09_09-14_01_48_Genie_M1P/data/Genie/000222_00121.58836/rgb.png\n",
      "   /home/tguenther/Data/ato_recordings/2025-09-09_Records_CITEC/Dataset_2025_09_09-14_01_48_Genie_M1P/data/Genie/000224_00122.65888/rgb.png\n",
      "   /home/tguenther/Data/ato_recordings/2025-09-09_Records_CITEC/Dataset_2025_09_09-14_01_48_Genie_M1P/data/Genie/000221_00121.05357/rgb.png\n",
      "   /home/tguenther/Data/ato_recordings/2025-09-09_Records_CITEC/Dataset_2025_09_09-14_01_48_Genie_M1P/data/Genie/000223_00122.12384/rgb.png\n",
      "Gruppe 14:\n",
      "   /home/tguenther/Data/ato_recordings/2025-09-09_Records_CITEC/Dataset_2025_09_09-14_01_48_Genie_M1P/data/Genie/000090_00050.56882/rgb.png\n",
      "   /home/tguenther/Data/ato_recordings/2025-09-09_Records_CITEC/Dataset_2025_09_09-14_01_48_Genie_M1P/data/Genie/000089_00050.03618/rgb.png\n",
      "Gruppe 15:\n",
      "   /home/tguenther/Data/ato_recordings/2025-09-09_Records_CITEC/Dataset_2025_09_09-14_01_48_Genie_M1P/data/Genie/000074_00041.85162/rgb.png\n",
      "   /home/tguenther/Data/ato_recordings/2025-09-09_Records_CITEC/Dataset_2025_09_09-14_01_48_Genie_M1P/data/Genie/000075_00042.38402/rgb.png\n",
      "Gruppe 16:\n",
      "   /home/tguenther/Data/ato_recordings/2025-09-09_Records_CITEC/Dataset_2025_09_09-14_01_48_Genie_M1P/data/Genie/000100_00055.95079/rgb.png\n",
      "   /home/tguenther/Data/ato_recordings/2025-09-09_Records_CITEC/Dataset_2025_09_09-14_01_48_Genie_M1P/data/Genie/000102_00057.01846/rgb.png\n",
      "   /home/tguenther/Data/ato_recordings/2025-09-09_Records_CITEC/Dataset_2025_09_09-14_01_48_Genie_M1P/data/Genie/000101_00056.48415/rgb.png\n",
      "   /home/tguenther/Data/ato_recordings/2025-09-09_Records_CITEC/Dataset_2025_09_09-14_01_48_Genie_M1P/data/Genie/000099_00055.41589/rgb.png\n",
      "Gruppe 17:\n",
      "   /home/tguenther/Data/ato_recordings/2025-09-09_Records_CITEC/Dataset_2025_09_09-14_01_48_Genie_M1P/data/Genie/000214_00117.27564/rgb.png\n",
      "   /home/tguenther/Data/ato_recordings/2025-09-09_Records_CITEC/Dataset_2025_09_09-14_01_48_Genie_M1P/data/Genie/000212_00116.20456/rgb.png\n",
      "   /home/tguenther/Data/ato_recordings/2025-09-09_Records_CITEC/Dataset_2025_09_09-14_01_48_Genie_M1P/data/Genie/000213_00116.74182/rgb.png\n",
      "   /home/tguenther/Data/ato_recordings/2025-09-09_Records_CITEC/Dataset_2025_09_09-14_01_48_Genie_M1P/data/Genie/000215_00117.80986/rgb.png\n",
      "Gruppe 18:\n",
      "   /home/tguenther/Data/ato_recordings/2025-09-09_Records_CITEC/Dataset_2025_09_09-14_01_48_Genie_M1P/data/Genie/000047_00027.27329/rgb.png\n",
      "   /home/tguenther/Data/ato_recordings/2025-09-09_Records_CITEC/Dataset_2025_09_09-14_01_48_Genie_M1P/data/Genie/000046_00026.73820/rgb.png\n",
      "Gruppe 19:\n",
      "   /home/tguenther/Data/ato_recordings/2025-09-09_Records_CITEC/Dataset_2025_09_09-14_01_48_Genie_M1P/data/Genie/000081_00045.70854/rgb.png\n",
      "   /home/tguenther/Data/ato_recordings/2025-09-09_Records_CITEC/Dataset_2025_09_09-14_01_48_Genie_M1P/data/Genie/000082_00046.24815/rgb.png\n",
      "Gruppe 20:\n",
      "   /home/tguenther/Data/ato_recordings/2025-09-09_Records_CITEC/Dataset_2025_09_09-14_01_48_Genie_M1P/data/Genie/000069_00039.16184/rgb.png\n",
      "   /home/tguenther/Data/ato_recordings/2025-09-09_Records_CITEC/Dataset_2025_09_09-14_01_48_Genie_M1P/data/Genie/000068_00038.62856/rgb.png\n",
      "Gruppe 21:\n",
      "   /home/tguenther/Data/ato_recordings/2025-09-09_Records_CITEC/Dataset_2025_09_09-14_01_48_Genie_M1P/data/Genie/000201_00110.29157/rgb.png\n",
      "   /home/tguenther/Data/ato_recordings/2025-09-09_Records_CITEC/Dataset_2025_09_09-14_01_48_Genie_M1P/data/Genie/000200_00109.75684/rgb.png\n",
      "   /home/tguenther/Data/ato_recordings/2025-09-09_Records_CITEC/Dataset_2025_09_09-14_01_48_Genie_M1P/data/Genie/000199_00109.22197/rgb.png\n",
      "   /home/tguenther/Data/ato_recordings/2025-09-09_Records_CITEC/Dataset_2025_09_09-14_01_48_Genie_M1P/data/Genie/000198_00108.68613/rgb.png\n",
      "Gruppe 22:\n",
      "   /home/tguenther/Data/ato_recordings/2025-09-09_Records_CITEC/Dataset_2025_09_09-14_01_48_Genie_M1P/data/Genie/000115_00064.01634/rgb.png\n",
      "   /home/tguenther/Data/ato_recordings/2025-09-09_Records_CITEC/Dataset_2025_09_09-14_01_48_Genie_M1P/data/Genie/000116_00064.54938/rgb.png\n",
      "Gruppe 23:\n",
      "   /home/tguenther/Data/ato_recordings/2025-09-09_Records_CITEC/Dataset_2025_09_09-14_01_48_Genie_M1P/data/Genie/000061_00034.77349/rgb.png\n",
      "   /home/tguenther/Data/ato_recordings/2025-09-09_Records_CITEC/Dataset_2025_09_09-14_01_48_Genie_M1P/data/Genie/000063_00035.84193/rgb.png\n",
      "   /home/tguenther/Data/ato_recordings/2025-09-09_Records_CITEC/Dataset_2025_09_09-14_01_48_Genie_M1P/data/Genie/000060_00034.23951/rgb.png\n",
      "   /home/tguenther/Data/ato_recordings/2025-09-09_Records_CITEC/Dataset_2025_09_09-14_01_48_Genie_M1P/data/Genie/000059_00033.70462/rgb.png\n",
      "   /home/tguenther/Data/ato_recordings/2025-09-09_Records_CITEC/Dataset_2025_09_09-14_01_48_Genie_M1P/data/Genie/000062_00035.30823/rgb.png\n",
      "Gruppe 24:\n",
      "   /home/tguenther/Data/ato_recordings/2025-09-09_Records_CITEC/Dataset_2025_09_09-14_01_48_Genie_M1P/data/Genie/000056_00032.09153/rgb.png\n",
      "   /home/tguenther/Data/ato_recordings/2025-09-09_Records_CITEC/Dataset_2025_09_09-14_01_48_Genie_M1P/data/Genie/000055_00031.55741/rgb.png\n",
      "   /home/tguenther/Data/ato_recordings/2025-09-09_Records_CITEC/Dataset_2025_09_09-14_01_48_Genie_M1P/data/Genie/000057_00032.62564/rgb.png\n",
      "Gruppe 25:\n",
      "   /home/tguenther/Data/ato_recordings/2025-09-09_Records_CITEC/Dataset_2025_09_09-14_01_48_Genie_M1P/data/Genie/000207_00113.51369/rgb.png\n",
      "   /home/tguenther/Data/ato_recordings/2025-09-09_Records_CITEC/Dataset_2025_09_09-14_01_48_Genie_M1P/data/Genie/000210_00115.12100/rgb.png\n",
      "   /home/tguenther/Data/ato_recordings/2025-09-09_Records_CITEC/Dataset_2025_09_09-14_01_48_Genie_M1P/data/Genie/000208_00114.04934/rgb.png\n",
      "   /home/tguenther/Data/ato_recordings/2025-09-09_Records_CITEC/Dataset_2025_09_09-14_01_48_Genie_M1P/data/Genie/000209_00114.58451/rgb.png\n",
      "Gruppe 26:\n",
      "   /home/tguenther/Data/ato_recordings/2025-09-09_Records_CITEC/Dataset_2025_09_09-14_01_48_Genie_M1P/data/Genie/000130_00072.06767/rgb.png\n",
      "   /home/tguenther/Data/ato_recordings/2025-09-09_Records_CITEC/Dataset_2025_09_09-14_01_48_Genie_M1P/data/Genie/000131_00072.60196/rgb.png\n",
      "Gruppe 27:\n",
      "   /home/tguenther/Data/ato_recordings/2025-09-09_Records_CITEC/Dataset_2025_09_09-14_01_48_Genie_M1P/data/Genie/000164_00090.40364/rgb.png\n",
      "   /home/tguenther/Data/ato_recordings/2025-09-09_Records_CITEC/Dataset_2025_09_09-14_01_48_Genie_M1P/data/Genie/000165_00090.93820/rgb.png\n",
      "Gruppe 28:\n",
      "   /home/tguenther/Data/ato_recordings/2025-09-09_Records_CITEC/Dataset_2025_09_09-14_01_48_Genie_M1P/data/Genie/000126_00069.90586/rgb.png\n",
      "   /home/tguenther/Data/ato_recordings/2025-09-09_Records_CITEC/Dataset_2025_09_09-14_01_48_Genie_M1P/data/Genie/000125_00069.37104/rgb.png\n",
      "Gruppe 29:\n",
      "   /home/tguenther/Data/ato_recordings/2025-09-09_Records_CITEC/Dataset_2025_09_09-14_01_48_Genie_M1P/data/Genie/000147_00081.19874/rgb.png\n",
      "   /home/tguenther/Data/ato_recordings/2025-09-09_Records_CITEC/Dataset_2025_09_09-14_01_48_Genie_M1P/data/Genie/000146_00080.66496/rgb.png\n",
      "Gruppe 30:\n",
      "   /home/tguenther/Data/ato_recordings/2025-09-09_Records_CITEC/Dataset_2025_09_09-14_01_48_Genie_M1P/data/Genie/000073_00041.31585/rgb.png\n",
      "   /home/tguenther/Data/ato_recordings/2025-09-09_Records_CITEC/Dataset_2025_09_09-14_01_48_Genie_M1P/data/Genie/000072_00040.78149/rgb.png\n"
     ]
    }
   ],
   "source": [
    "basisordner = \"/home/tguenther/Data/ato_recordings/2025-09-09_Records_CITEC/Dataset_2025_09_09-14_01_48_Genie_M1P/data/Genie/\"\n",
    "\n",
    "def finde_rgb_pngs(root):\n",
    "    for r, _, files in os.walk(root):\n",
    "        for f in files:\n",
    "            if f.lower() == \"rgb.png\":\n",
    "                yield os.path.join(r, f)\n",
    "\n",
    "def hash_image(path):\n",
    "    # Nur die tatsächlichen Pixel + Format/Größe hashen (Metadaten egal)\n",
    "    with Image.open(path) as im:\n",
    "        im.load()  # vollständiges Laden (verhindert lazy loading)\n",
    "        # Größe + Modus mit in den Hash, damit unterschiedliche Modi/Sizes ungleich werden\n",
    "        header = f\"{im.mode}|{im.size[0]}x{im.size[1]}\".encode(\"utf-8\")\n",
    "        pixel_bytes = im.tobytes()  # schneller als np.array(...).tobytes()\n",
    "    h = hashlib.sha256()\n",
    "    h.update(header)\n",
    "    h.update(pixel_bytes)\n",
    "    return (path, h.hexdigest())\n",
    "\n",
    "def gruppiere_duplikate(dateipfade, workers=None, chunksize=32):\n",
    "    dupe_map = defaultdict(list)\n",
    "    with ProcessPoolExecutor(max_workers=workers) as ex:\n",
    "        for path, digest in ex.map(hash_image, dateipfade, chunksize=chunksize):\n",
    "            dupe_map[digest].append(path)\n",
    "    # nur Gruppen mit >=2 Dateien\n",
    "    return [pfade for pfade in dupe_map.values() if len(pfade) > 1]\n",
    "\n",
    "if __name__ == \"__main__\":\n",
    "    dateien = list(finde_rgb_pngs(basisordner))\n",
    "    print(f\"Gefundene PNGs: {len(dateien)}\")\n",
    "    dupe_gruppen = gruppiere_duplikate(dateien)  # nutzt alle Kerne\n",
    "    if not dupe_gruppen:\n",
    "        print(\"Keine Duplikate gefunden.\")\n",
    "    else:\n",
    "        print(\"Duplikat-Gruppen:\")\n",
    "        for i, grp in enumerate(dupe_gruppen, 1):\n",
    "            print(f\"Gruppe {i}:\")\n",
    "            for p in grp:\n",
    "                print(\"  \", p)"
   ]
  },
  {
   "cell_type": "code",
   "execution_count": null,
   "id": "023d680a",
   "metadata": {},
   "outputs": [],
   "source": []
  }
 ],
 "metadata": {
  "kernelspec": {
   "display_name": "py-mink-118-2",
   "language": "python",
   "name": "python3"
  },
  "language_info": {
   "codemirror_mode": {
    "name": "ipython",
    "version": 3
   },
   "file_extension": ".py",
   "mimetype": "text/x-python",
   "name": "python",
   "nbconvert_exporter": "python",
   "pygments_lexer": "ipython3",
   "version": "3.10.14"
  }
 },
 "nbformat": 4,
 "nbformat_minor": 5
}
